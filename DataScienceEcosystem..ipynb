{
 "cells": [
  {
   "cell_type": "markdown",
   "id": "c87551df-4e6b-4d47-a294-9911005aa9ce",
   "metadata": {
    "tags": []
   },
   "source": [
    "# Data Science Tools and Ecosystem"
   ]
  },
  {
   "cell_type": "markdown",
   "id": "30476121-03bc-4d6f-9809-8e88cabaf803",
   "metadata": {
    "tags": []
   },
   "source": [
    "In this notebook, Data Science Tools are summarized\n"
   ]
  },
  {
   "cell_type": "markdown",
   "id": "d9d431eb-0342-4c15-953e-35273e235d76",
   "metadata": {},
   "source": [
    "# Objetivos:\n",
    "\n",
    "- Linguagens utilizadas na análise de dados;\n",
    "- Ferramentas utilizadas na análise de dados;\n",
    "- Operações matemáticas em Python;\n"
   ]
  },
  {
   "cell_type": "code",
   "execution_count": 10,
   "id": "c5338e00-b2d4-4617-b850-2dfa247cdbfa",
   "metadata": {
    "tags": []
   },
   "outputs": [
    {
     "name": "stdout",
     "output_type": "stream",
     "text": [
      "python, R, Java\n"
     ]
    }
   ],
   "source": [
    "#Some of the popular languages that Data Scientists use are:\n",
    "print (\"python, R, Java\")"
   ]
  },
  {
   "cell_type": "code",
   "execution_count": 11,
   "id": "1e23b112-ca48-497d-9a5f-20d06f995857",
   "metadata": {
    "tags": []
   },
   "outputs": [
    {
     "name": "stdout",
     "output_type": "stream",
     "text": [
      "Numpy, Pandas, Scipy, Plotly, PyTorch\n"
     ]
    }
   ],
   "source": [
    "#Some of the commonly used libraries used by Data Scientists include:\n",
    "print (\"Numpy, Pandas, Scipy, Plotly, PyTorch\")"
   ]
  },
  {
   "cell_type": "markdown",
   "id": "0c41ca82-9645-4c67-aa04-eedafae7f898",
   "metadata": {
    "tags": []
   },
   "source": [
    "| Data Science Tools |\n",
    "| -------------------| \n",
    "\n",
    "| Python |\n",
    "|--------|\n",
    "\n",
    "| R      |\n",
    "|--------|\n",
    "\n",
    "| Jupyter Notebook |\n",
    "|------------------|"
   ]
  },
  {
   "cell_type": "markdown",
   "id": "5a09c20f-4fd8-40ac-83eb-3149a62dadfe",
   "metadata": {
    "tags": []
   },
   "source": [
    "### Below are a few examples of evaluating arithmetic expressions in Python"
   ]
  },
  {
   "cell_type": "code",
   "execution_count": 15,
   "id": "d28f7540-0ae0-4c07-a0a5-e2d91fee6724",
   "metadata": {
    "tags": []
   },
   "outputs": [
    {
     "name": "stdout",
     "output_type": "stream",
     "text": [
      "+ addition, - subtraction, * multiplication, / division\n"
     ]
    }
   ],
   "source": [
    "print (\"+ addition, - subtraction, * multiplication, / division\")"
   ]
  },
  {
   "cell_type": "code",
   "execution_count": 17,
   "id": "9c851ee0-e0b7-49e3-884b-eda3afdc0737",
   "metadata": {
    "tags": []
   },
   "outputs": [
    {
     "name": "stdout",
     "output_type": "stream",
     "text": [
      "17\n"
     ]
    }
   ],
   "source": [
    ">>> (a)  = 3\n",
    ">>> (b) = 4\n",
    ">>> (c) = 5\n",
    ">>> (d) = (3*4)+5\n",
    "\n",
    "print (d) "
   ]
  },
  {
   "cell_type": "code",
   "execution_count": 55,
   "id": "5b5668a9-a2b2-4f38-90a4-b0cbd7bb00c6",
   "metadata": {
    "tags": []
   },
   "outputs": [
    {
     "name": "stdout",
     "output_type": "stream",
     "text": [
      "12000\n"
     ]
    }
   ],
   "source": [
    "def minutos_horas(horas):\n",
    "    return horas * 60\n",
    "\n",
    "(r) = minutos_horas(200)\n",
    "print (r)"
   ]
  },
  {
   "cell_type": "markdown",
   "id": "3c0454b1-9e96-4a72-a02a-7ffe5de16258",
   "metadata": {},
   "source": [
    "## Author\n",
    "\n",
    "Fabiano Luis dos Santos"
   ]
  },
  {
   "cell_type": "code",
   "execution_count": null,
   "id": "028452ab-2fd9-41ad-bf32-0a70c5639479",
   "metadata": {},
   "outputs": [],
   "source": []
  }
 ],
 "metadata": {
  "kernelspec": {
   "display_name": "Python",
   "language": "python",
   "name": "conda-env-python-py"
  },
  "language_info": {
   "codemirror_mode": {
    "name": "ipython",
    "version": 3
   },
   "file_extension": ".py",
   "mimetype": "text/x-python",
   "name": "python",
   "nbconvert_exporter": "python",
   "pygments_lexer": "ipython3",
   "version": "3.7.12"
  }
 },
 "nbformat": 4,
 "nbformat_minor": 5
}
